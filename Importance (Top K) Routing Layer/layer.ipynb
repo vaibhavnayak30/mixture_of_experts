{
 "cells": [
  {
   "cell_type": "markdown",
   "id": "629cfa46",
   "metadata": {},
   "source": [
    "# Implementing Tok-k Importance Routing "
   ]
  },
  {
   "cell_type": "code",
   "execution_count": 1,
   "id": "a198c5c0",
   "metadata": {},
   "outputs": [],
   "source": [
    "import torch\n",
    "import torch.nn as nn\n",
    "import torch.nn.functional as F"
   ]
  },
  {
   "cell_type": "code",
   "execution_count": 2,
   "id": "e0038a43",
   "metadata": {},
   "outputs": [],
   "source": [
    "class Expert(nn.Module):\n",
    "    def __init__(self, d_model, d_hidden, activation, dropout):\n",
    "        super().__init__()\n",
    "        act = {\"relu\":F.relu(), \"gelu\": F.gelu()}[activation]\n",
    "        self.ffn = nn.ModuleList(\n",
    "            nn.Sequential(\n",
    "                nn.Linear(d_model, d_hidden),\n",
    "                act,\n",
    "                nn.Dropout(dropout),\n",
    "                nn.Linear(d_hidden, d_model)\n",
    "            )\n",
    "        )\n",
    "\n",
    "    def forward(self, x):\n",
    "        return self.ffn(x)"
   ]
  },
  {
   "cell_type": "markdown",
   "id": "83a28e34",
   "metadata": {},
   "source": [
    "### MoE Layer With Importance Routing"
   ]
  },
  {
   "cell_type": "code",
   "execution_count": null,
   "id": "ebacf2f7",
   "metadata": {},
   "outputs": [
    {
     "ename": "SyntaxError",
     "evalue": "incomplete input (3155914306.py, line 1)",
     "output_type": "error",
     "traceback": [
      "\u001b[1;36m  Cell \u001b[1;32mIn[3], line 1\u001b[1;36m\u001b[0m\n\u001b[1;33m    class MoE(nn.Module):\u001b[0m\n\u001b[1;37m                         ^\u001b[0m\n\u001b[1;31mSyntaxError\u001b[0m\u001b[1;31m:\u001b[0m incomplete input\n"
     ]
    }
   ],
   "source": [
    "class MoE(nn.Module):\n",
    "    def __init__(self):\n",
    "        super().__init__()\n",
    "\n",
    "    \n",
    "    def forward(self, x):\n",
    "        \"\"\" \n",
    "        x : (B, S, D)\n",
    "        \"\"\"\n",
    "        B, S, D = x.shape\n",
    "        T = B * S\n",
    "        x_flat = x.view(T, D)\n",
    "\n",
    "        "
   ]
  },
  {
   "cell_type": "code",
   "execution_count": null,
   "id": "524865c1",
   "metadata": {},
   "outputs": [],
   "source": []
  }
 ],
 "metadata": {
  "kernelspec": {
   "display_name": "llm",
   "language": "python",
   "name": "python3"
  },
  "language_info": {
   "codemirror_mode": {
    "name": "ipython",
    "version": 3
   },
   "file_extension": ".py",
   "mimetype": "text/x-python",
   "name": "python",
   "nbconvert_exporter": "python",
   "pygments_lexer": "ipython3",
   "version": "3.11.9"
  }
 },
 "nbformat": 4,
 "nbformat_minor": 5
}
