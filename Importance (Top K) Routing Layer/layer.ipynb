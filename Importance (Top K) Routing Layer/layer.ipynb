{
 "cells": [
  {
   "cell_type": "markdown",
   "id": "629cfa46",
   "metadata": {},
   "source": [
    "# Implementing Tok-k Importance Routing "
   ]
  },
  {
   "cell_type": "code",
   "execution_count": 1,
   "id": "a198c5c0",
   "metadata": {},
   "outputs": [],
   "source": [
    "import torch\n",
    "import torch.nn as nn\n",
    "import torch.nn.functional as F"
   ]
  },
  {
   "cell_type": "code",
   "execution_count": 2,
   "id": "e0038a43",
   "metadata": {},
   "outputs": [],
   "source": [
    "class Expert(nn.Module):\n",
    "    def __init__(self, d_model, d_hidden, activation, dropout):\n",
    "        super().__init__()\n",
    "        act = {\"relu\":F.relu(), \"gelu\": F.gelu()}[activation]\n",
    "        self.ffn = nn.ModuleList(\n",
    "            nn.Sequential(\n",
    "                nn.Linear(d_model, d_hidden),\n",
    "                act,\n",
    "                nn.Dropout(dropout),\n",
    "                nn.Linear(d_hidden, d_model)\n",
    "            )\n",
    "        )\n",
    "\n",
    "    def forward(self, x):\n",
    "        return self.ffn(x)"
   ]
  },
  {
   "cell_type": "markdown",
   "id": "83a28e34",
   "metadata": {},
   "source": [
    "### MoE Layer With Importance Routing"
   ]
  },
  {
   "cell_type": "code",
   "execution_count": null,
   "id": "ebacf2f7",
   "metadata": {},
   "outputs": [
    {
     "ename": "SyntaxError",
     "evalue": "incomplete input (3155914306.py, line 1)",
     "output_type": "error",
     "traceback": [
      "\u001b[1;36m  Cell \u001b[1;32mIn[3], line 1\u001b[1;36m\u001b[0m\n\u001b[1;33m    class MoE(nn.Module):\u001b[0m\n\u001b[1;37m                         ^\u001b[0m\n\u001b[1;31mSyntaxError\u001b[0m\u001b[1;31m:\u001b[0m incomplete input\n"
     ]
    }
   ],
   "source": [
    "class MoE(nn.Module):\n",
    "    def __init__(self, d_model: int, num_experts: int, k=2):\n",
    "        super().__init__()\n",
    "        self.num_experts = num_experts\n",
    "        self.k = k\n",
    "\n",
    "        # Defining the router \n",
    "        self.router = nn.Linear(d_model, num_experts)\n",
    "\n",
    "    \n",
    "    def forward(self, x):\n",
    "        \"\"\" \n",
    "        x : (B, S, D)\n",
    "        \"\"\"\n",
    "        B, S, D = x.shape\n",
    "        T = B * S\n",
    "        x_flat = x.view(T, D)\n",
    "\n",
    "        # Routing\n",
    "        logits = self.router(x_flat)                                    # (T, E)\n",
    "        probs = F.softmax(logits, dim=-1)                               # (T, E)\n",
    "        topk_prob, topk_idx = torch.topk(probs, k= self.k, dim=-1)      # (T, k) (T, k)\n",
    "        \n",
    "        # Normalise topk values as sum is not equal to 1\n",
    "        topk_prob = topk_prob / (topk_prob.sum(dim=-1, keepdim=True) + 1e-9)\n",
    "\n",
    "        # Dispatch tokens to experts \n",
    "        y_flat = torch.zeros_like(x_flat)\n",
    "        for i in range(self.k):\n",
    "            \n",
    "\n",
    "\n",
    "\n",
    "\n",
    "\n"
   ]
  },
  {
   "cell_type": "code",
   "execution_count": 16,
   "id": "524865c1",
   "metadata": {},
   "outputs": [
    {
     "data": {
      "text/plain": [
       "tensor([0.8000, 0.6000, 0.3000])"
      ]
     },
     "execution_count": 16,
     "metadata": {},
     "output_type": "execute_result"
    }
   ],
   "source": [
    "import torch\n",
    "\n",
    "x = torch.tensor([0.1, 0.8, 0.05, 0.3, 0.6])\n",
    "topk_vals, _ = torch.topk(x, 3)\n",
    "topk_vals"
   ]
  },
  {
   "cell_type": "code",
   "execution_count": 17,
   "id": "781e73a4",
   "metadata": {},
   "outputs": [
    {
     "data": {
      "text/plain": [
       "tensor([1.7000])"
      ]
     },
     "execution_count": 17,
     "metadata": {},
     "output_type": "execute_result"
    }
   ],
   "source": [
    "topk_vals.sum(-1, keepdim=True)"
   ]
  },
  {
   "cell_type": "code",
   "execution_count": null,
   "id": "71d30621",
   "metadata": {},
   "outputs": [],
   "source": []
  }
 ],
 "metadata": {
  "kernelspec": {
   "display_name": "llm",
   "language": "python",
   "name": "python3"
  },
  "language_info": {
   "codemirror_mode": {
    "name": "ipython",
    "version": 3
   },
   "file_extension": ".py",
   "mimetype": "text/x-python",
   "name": "python",
   "nbconvert_exporter": "python",
   "pygments_lexer": "ipython3",
   "version": "3.11.9"
  }
 },
 "nbformat": 4,
 "nbformat_minor": 5
}
